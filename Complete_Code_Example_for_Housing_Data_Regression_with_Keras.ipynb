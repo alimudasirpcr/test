{
  "nbformat": 4,
  "nbformat_minor": 0,
  "metadata": {
    "colab": {
      "provenance": [],
      "authorship_tag": "ABX9TyMCmj2lI62byamtq0zjuW6C",
      "include_colab_link": true
    },
    "kernelspec": {
      "name": "python3",
      "display_name": "Python 3"
    },
    "language_info": {
      "name": "python"
    }
  },
  "cells": [
    {
      "cell_type": "markdown",
      "metadata": {
        "id": "view-in-github",
        "colab_type": "text"
      },
      "source": [
        "<a href=\"https://colab.research.google.com/github/alimudasirpcr/test/blob/main/Complete_Code_Example_for_Housing_Data_Regression_with_Keras.ipynb\" target=\"_parent\"><img src=\"https://colab.research.google.com/assets/colab-badge.svg\" alt=\"Open In Colab\"/></a>"
      ]
    },
    {
      "cell_type": "markdown",
      "source": [
        "**Complete Code Example for Housing Data Regression with Keras**\n",
        "\n",
        "---\n",
        "\n"
      ],
      "metadata": {
        "id": "t0g8FflWSIAF"
      }
    },
    {
      "cell_type": "code",
      "execution_count": 1,
      "metadata": {
        "id": "R9znnS7CSB-q"
      },
      "outputs": [],
      "source": [
        "import numpy as np\n",
        "import pandas as pd\n",
        "from sklearn.model_selection import train_test_split\n",
        "from sklearn.preprocessing import StandardScaler, PolynomialFeatures\n",
        "from tensorflow.keras.models import Sequential\n",
        "from tensorflow.keras.layers import Dense"
      ]
    },
    {
      "cell_type": "code",
      "source": [
        "data = pd.read_csv('/content/housing/housing.csv')  # Adjust path accordingly\n",
        "X = data.drop('median_house_value', axis=1)  # Assuming 'median_house_value' is the target\n",
        "y = data['median_house_value']"
      ],
      "metadata": {
        "id": "Ohd4UAbZSRmN"
      },
      "execution_count": 4,
      "outputs": []
    },
    {
      "cell_type": "code",
      "source": [
        "data = pd.get_dummies(data)"
      ],
      "metadata": {
        "id": "__3hpCtmSsz8"
      },
      "execution_count": 8,
      "outputs": []
    },
    {
      "cell_type": "code",
      "source": [
        "from sklearn.impute import SimpleImputer\n",
        "\n",
        "# Create an imputer object with a mean filling strategy\n",
        "imputer = SimpleImputer(strategy='mean')\n",
        "\n",
        "# Apply the imputer to our polynomial features\n"
      ],
      "metadata": {
        "id": "ozofCxRgTIQD"
      },
      "execution_count": 13,
      "outputs": []
    },
    {
      "cell_type": "code",
      "source": [
        "poly = PolynomialFeatures(degree=2, include_bias=False)\n",
        "X_poly_imputed = imputer.fit_transform(X)\n",
        "X_poly = poly.fit_transform(X_poly_imputed)"
      ],
      "metadata": {
        "id": "0nxbXjM1SePl"
      },
      "execution_count": 16,
      "outputs": []
    },
    {
      "cell_type": "code",
      "source": [
        "from sklearn.model_selection import train_test_split\n",
        "\n",
        "# Split data into training and testing sets\n",
        "X_train, X_test, y_train, y_test = train_test_split(X_poly_imputed, y, test_size=0.2, random_state=42)"
      ],
      "metadata": {
        "id": "MsRR108PS37d"
      },
      "execution_count": 17,
      "outputs": []
    },
    {
      "cell_type": "code",
      "source": [
        "from sklearn.preprocessing import StandardScaler\n",
        "\n",
        "# Initialize the scaler\n",
        "scaler = StandardScaler()\n",
        "\n",
        "# Fit the scaler to the training data and transform it\n",
        "X_train_scaled = scaler.fit_transform(X_train)\n",
        "\n",
        "# Apply the same scaler to transform the test data\n",
        "X_test_scaled = scaler.transform(X_test)"
      ],
      "metadata": {
        "id": "5-j6BTwRTrnG"
      },
      "execution_count": 18,
      "outputs": []
    },
    {
      "cell_type": "code",
      "source": [
        "from tensorflow.keras.models import Sequential\n",
        "from tensorflow.keras.layers import Dense\n",
        "\n",
        "# Define the neural network model\n",
        "model = Sequential([\n",
        "    Dense(128, activation='relu', input_shape=[X_train_scaled.shape[1]]),\n",
        "    Dense(64, activation='relu'),\n",
        "    Dense(32, activation='relu'),\n",
        "    Dense(1)  # Output layer for regression\n",
        "])\n",
        "\n",
        "# Compile the model\n",
        "model.compile(optimizer='adam', loss='mse', metrics=['mae'])\n",
        "\n",
        "# Train the model\n",
        "history = model.fit(X_train_scaled, y_train, epochs=100, validation_split=0.2)"
      ],
      "metadata": {
        "colab": {
          "base_uri": "https://localhost:8080/"
        },
        "id": "f_oqep5fTu0M",
        "outputId": "0f473c17-b567-466c-8b22-905f9d38bf7f"
      },
      "execution_count": 21,
      "outputs": [
        {
          "output_type": "stream",
          "name": "stdout",
          "text": [
            "Epoch 1/100\n",
            "413/413 [==============================] - 2s 3ms/step - loss: 48447795200.0000 - mae: 188815.3281 - val_loss: 23315316736.0000 - val_mae: 121676.2578\n",
            "Epoch 2/100\n",
            "413/413 [==============================] - 1s 3ms/step - loss: 11340979200.0000 - mae: 79728.9531 - val_loss: 8801083392.0000 - val_mae: 68582.5625\n",
            "Epoch 3/100\n",
            "413/413 [==============================] - 1s 2ms/step - loss: 7480365568.0000 - mae: 62866.4922 - val_loss: 7002906624.0000 - val_mae: 60004.2500\n",
            "Epoch 4/100\n",
            "413/413 [==============================] - 2s 4ms/step - loss: 6215574528.0000 - mae: 56538.0625 - val_loss: 6037032448.0000 - val_mae: 54840.0352\n",
            "Epoch 5/100\n",
            "413/413 [==============================] - 2s 5ms/step - loss: 5513692672.0000 - mae: 52856.2383 - val_loss: 5511088640.0000 - val_mae: 52354.7461\n",
            "Epoch 6/100\n",
            "413/413 [==============================] - 2s 4ms/step - loss: 5115407360.0000 - mae: 51017.0273 - val_loss: 5222968320.0000 - val_mae: 51340.5469\n",
            "Epoch 7/100\n",
            "413/413 [==============================] - 2s 4ms/step - loss: 4868980736.0000 - mae: 49832.8867 - val_loss: 5045720576.0000 - val_mae: 50487.9258\n",
            "Epoch 8/100\n",
            "413/413 [==============================] - 2s 4ms/step - loss: 4720023552.0000 - mae: 49103.0820 - val_loss: 4933041152.0000 - val_mae: 49972.4961\n",
            "Epoch 9/100\n",
            "413/413 [==============================] - 1s 3ms/step - loss: 4622555648.0000 - mae: 48577.7305 - val_loss: 4882138624.0000 - val_mae: 49904.0664\n",
            "Epoch 10/100\n",
            "413/413 [==============================] - 1s 3ms/step - loss: 4555929088.0000 - mae: 48263.8867 - val_loss: 4835209216.0000 - val_mae: 49778.7227\n",
            "Epoch 11/100\n",
            "413/413 [==============================] - 1s 3ms/step - loss: 4496725504.0000 - mae: 47831.1953 - val_loss: 4757745664.0000 - val_mae: 49090.4023\n",
            "Epoch 12/100\n",
            "413/413 [==============================] - 1s 3ms/step - loss: 4456754176.0000 - mae: 47635.4141 - val_loss: 4728150016.0000 - val_mae: 48936.6406\n",
            "Epoch 13/100\n",
            "413/413 [==============================] - 1s 3ms/step - loss: 4418035712.0000 - mae: 47462.1992 - val_loss: 4697345024.0000 - val_mae: 48327.0977\n",
            "Epoch 14/100\n",
            "413/413 [==============================] - 1s 3ms/step - loss: 4387837440.0000 - mae: 47219.5430 - val_loss: 4668936704.0000 - val_mae: 48249.4258\n",
            "Epoch 15/100\n",
            "413/413 [==============================] - 1s 3ms/step - loss: 4361256448.0000 - mae: 46958.2422 - val_loss: 4650030592.0000 - val_mae: 48471.5430\n",
            "Epoch 16/100\n",
            "413/413 [==============================] - 1s 3ms/step - loss: 4340504576.0000 - mae: 46845.4180 - val_loss: 4653839872.0000 - val_mae: 48676.4180\n",
            "Epoch 17/100\n",
            "413/413 [==============================] - 1s 3ms/step - loss: 4318544896.0000 - mae: 46737.8203 - val_loss: 4634786816.0000 - val_mae: 48683.5859\n",
            "Epoch 18/100\n",
            "413/413 [==============================] - 2s 4ms/step - loss: 4304805376.0000 - mae: 46626.1641 - val_loss: 4602340352.0000 - val_mae: 47976.7148\n",
            "Epoch 19/100\n",
            "413/413 [==============================] - 2s 5ms/step - loss: 4280883456.0000 - mae: 46423.3242 - val_loss: 4599376896.0000 - val_mae: 47614.0703\n",
            "Epoch 20/100\n",
            "413/413 [==============================] - 1s 3ms/step - loss: 4265276416.0000 - mae: 46340.5352 - val_loss: 4579707392.0000 - val_mae: 48067.4570\n",
            "Epoch 21/100\n",
            "413/413 [==============================] - 1s 3ms/step - loss: 4254238464.0000 - mae: 46335.7617 - val_loss: 4559018496.0000 - val_mae: 47481.8398\n",
            "Epoch 22/100\n",
            "413/413 [==============================] - 1s 3ms/step - loss: 4242587136.0000 - mae: 46077.3320 - val_loss: 4565127168.0000 - val_mae: 48088.0039\n",
            "Epoch 23/100\n",
            "413/413 [==============================] - 1s 3ms/step - loss: 4228751872.0000 - mae: 46087.7852 - val_loss: 4536678912.0000 - val_mae: 47267.6133\n",
            "Epoch 24/100\n",
            "413/413 [==============================] - 1s 3ms/step - loss: 4218624768.0000 - mae: 46006.5508 - val_loss: 4538246656.0000 - val_mae: 47792.2227\n",
            "Epoch 25/100\n",
            "413/413 [==============================] - 1s 2ms/step - loss: 4205291264.0000 - mae: 45977.7031 - val_loss: 4512274432.0000 - val_mae: 46883.1602\n",
            "Epoch 26/100\n",
            "413/413 [==============================] - 1s 2ms/step - loss: 4197735936.0000 - mae: 45754.9180 - val_loss: 4534576128.0000 - val_mae: 47708.8867\n",
            "Epoch 27/100\n",
            "413/413 [==============================] - 1s 3ms/step - loss: 4192275712.0000 - mae: 45782.3711 - val_loss: 4503477248.0000 - val_mae: 47255.6875\n",
            "Epoch 28/100\n",
            "413/413 [==============================] - 1s 3ms/step - loss: 4181084160.0000 - mae: 45745.8945 - val_loss: 4501408256.0000 - val_mae: 47143.7109\n",
            "Epoch 29/100\n",
            "413/413 [==============================] - 2s 5ms/step - loss: 4176920064.0000 - mae: 45735.0781 - val_loss: 4488640512.0000 - val_mae: 46810.6250\n",
            "Epoch 30/100\n",
            "413/413 [==============================] - 2s 5ms/step - loss: 4167419392.0000 - mae: 45590.3086 - val_loss: 4494562304.0000 - val_mae: 47000.1523\n",
            "Epoch 31/100\n",
            "413/413 [==============================] - 1s 3ms/step - loss: 4157058560.0000 - mae: 45569.0938 - val_loss: 4473725440.0000 - val_mae: 46682.5938\n",
            "Epoch 32/100\n",
            "413/413 [==============================] - 1s 3ms/step - loss: 4152886528.0000 - mae: 45569.5703 - val_loss: 4458924544.0000 - val_mae: 47003.6875\n",
            "Epoch 33/100\n",
            "413/413 [==============================] - 1s 3ms/step - loss: 4142051328.0000 - mae: 45489.7305 - val_loss: 4461475840.0000 - val_mae: 46758.0742\n",
            "Epoch 34/100\n",
            "413/413 [==============================] - 1s 3ms/step - loss: 4136896512.0000 - mae: 45405.5781 - val_loss: 4468961280.0000 - val_mae: 47199.6523\n",
            "Epoch 35/100\n",
            "413/413 [==============================] - 1s 3ms/step - loss: 4128625408.0000 - mae: 45410.1406 - val_loss: 4435581440.0000 - val_mae: 46876.1797\n",
            "Epoch 36/100\n",
            "413/413 [==============================] - 1s 3ms/step - loss: 4118711296.0000 - mae: 45337.1133 - val_loss: 4443305984.0000 - val_mae: 46887.0352\n",
            "Epoch 37/100\n",
            "413/413 [==============================] - 1s 3ms/step - loss: 4117173248.0000 - mae: 45331.2383 - val_loss: 4426759168.0000 - val_mae: 46564.6992\n",
            "Epoch 38/100\n",
            "413/413 [==============================] - 1s 3ms/step - loss: 4109178624.0000 - mae: 45275.5586 - val_loss: 4428508672.0000 - val_mae: 46387.4180\n",
            "Epoch 39/100\n",
            "413/413 [==============================] - 2s 4ms/step - loss: 4102486784.0000 - mae: 45303.3984 - val_loss: 4410641408.0000 - val_mae: 46421.4141\n",
            "Epoch 40/100\n",
            "413/413 [==============================] - 2s 5ms/step - loss: 4095345152.0000 - mae: 45141.9375 - val_loss: 4414380032.0000 - val_mae: 46267.6875\n",
            "Epoch 41/100\n",
            "413/413 [==============================] - 1s 3ms/step - loss: 4091564544.0000 - mae: 45185.9336 - val_loss: 4417204224.0000 - val_mae: 46061.6992\n",
            "Epoch 42/100\n",
            "413/413 [==============================] - 1s 3ms/step - loss: 4084962816.0000 - mae: 45065.0078 - val_loss: 4406160896.0000 - val_mae: 46650.6133\n",
            "Epoch 43/100\n",
            "413/413 [==============================] - 1s 2ms/step - loss: 4085697280.0000 - mae: 45092.4258 - val_loss: 4406366720.0000 - val_mae: 46652.1328\n",
            "Epoch 44/100\n",
            "413/413 [==============================] - 1s 3ms/step - loss: 4074661632.0000 - mae: 45030.1133 - val_loss: 4385030656.0000 - val_mae: 46431.6758\n",
            "Epoch 45/100\n",
            "413/413 [==============================] - 1s 3ms/step - loss: 4066979584.0000 - mae: 45000.8477 - val_loss: 4430610944.0000 - val_mae: 47132.1875\n",
            "Epoch 46/100\n",
            "413/413 [==============================] - 1s 3ms/step - loss: 4063522560.0000 - mae: 44992.4219 - val_loss: 4381895680.0000 - val_mae: 46226.8047\n",
            "Epoch 47/100\n",
            "413/413 [==============================] - 2s 4ms/step - loss: 4055731200.0000 - mae: 44940.9961 - val_loss: 4405062144.0000 - val_mae: 46790.2109\n",
            "Epoch 48/100\n",
            "413/413 [==============================] - 2s 4ms/step - loss: 4052645120.0000 - mae: 44941.9023 - val_loss: 4365435904.0000 - val_mae: 46032.2148\n",
            "Epoch 49/100\n",
            "413/413 [==============================] - 2s 5ms/step - loss: 4050570496.0000 - mae: 44827.0742 - val_loss: 4361248768.0000 - val_mae: 46264.9414\n",
            "Epoch 50/100\n",
            "413/413 [==============================] - 2s 4ms/step - loss: 4042569472.0000 - mae: 44831.8438 - val_loss: 4368531456.0000 - val_mae: 46338.7891\n",
            "Epoch 51/100\n",
            "413/413 [==============================] - 2s 4ms/step - loss: 4039868928.0000 - mae: 44823.5977 - val_loss: 4348519936.0000 - val_mae: 46003.1445\n",
            "Epoch 52/100\n",
            "413/413 [==============================] - 1s 3ms/step - loss: 4035308032.0000 - mae: 44755.1914 - val_loss: 4359240192.0000 - val_mae: 46391.6484\n",
            "Epoch 53/100\n",
            "413/413 [==============================] - 1s 3ms/step - loss: 4031779328.0000 - mae: 44804.1172 - val_loss: 4349614080.0000 - val_mae: 45967.8867\n",
            "Epoch 54/100\n",
            "413/413 [==============================] - 1s 3ms/step - loss: 4028336384.0000 - mae: 44670.7148 - val_loss: 4343479808.0000 - val_mae: 45943.3164\n",
            "Epoch 55/100\n",
            "413/413 [==============================] - 1s 3ms/step - loss: 4022683904.0000 - mae: 44656.8281 - val_loss: 4346933760.0000 - val_mae: 46098.2656\n",
            "Epoch 56/100\n",
            "413/413 [==============================] - 1s 3ms/step - loss: 4016992256.0000 - mae: 44630.6953 - val_loss: 4363690496.0000 - val_mae: 46358.8320\n",
            "Epoch 57/100\n",
            "413/413 [==============================] - 1s 3ms/step - loss: 4016207872.0000 - mae: 44631.1758 - val_loss: 4336620032.0000 - val_mae: 45692.4219\n",
            "Epoch 58/100\n",
            "413/413 [==============================] - 1s 3ms/step - loss: 4011050240.0000 - mae: 44628.8711 - val_loss: 4340455424.0000 - val_mae: 45668.6211\n",
            "Epoch 59/100\n",
            "413/413 [==============================] - 1s 3ms/step - loss: 4009120256.0000 - mae: 44529.3672 - val_loss: 4348118528.0000 - val_mae: 46344.0625\n",
            "Epoch 60/100\n",
            "413/413 [==============================] - 1s 3ms/step - loss: 4002966784.0000 - mae: 44525.6016 - val_loss: 4321299968.0000 - val_mae: 45942.5312\n",
            "Epoch 61/100\n",
            "413/413 [==============================] - 2s 4ms/step - loss: 3993741312.0000 - mae: 44486.2852 - val_loss: 4323982848.0000 - val_mae: 45950.1250\n",
            "Epoch 62/100\n",
            "413/413 [==============================] - 2s 5ms/step - loss: 3998100480.0000 - mae: 44516.1094 - val_loss: 4321879552.0000 - val_mae: 45583.6719\n",
            "Epoch 63/100\n",
            "413/413 [==============================] - 1s 3ms/step - loss: 3994206208.0000 - mae: 44418.8047 - val_loss: 4313411584.0000 - val_mae: 45841.8516\n",
            "Epoch 64/100\n",
            "413/413 [==============================] - 1s 3ms/step - loss: 3991922176.0000 - mae: 44452.2422 - val_loss: 4314058240.0000 - val_mae: 45515.0430\n",
            "Epoch 65/100\n",
            "413/413 [==============================] - 1s 3ms/step - loss: 3993352448.0000 - mae: 44387.1797 - val_loss: 4320206848.0000 - val_mae: 45775.6797\n",
            "Epoch 66/100\n",
            "413/413 [==============================] - 1s 3ms/step - loss: 3985608960.0000 - mae: 44442.4023 - val_loss: 4311712256.0000 - val_mae: 45715.1016\n",
            "Epoch 67/100\n",
            "413/413 [==============================] - 1s 3ms/step - loss: 3981861120.0000 - mae: 44373.5938 - val_loss: 4320031232.0000 - val_mae: 45474.1133\n",
            "Epoch 68/100\n",
            "413/413 [==============================] - 1s 3ms/step - loss: 3979451648.0000 - mae: 44370.6094 - val_loss: 4307240960.0000 - val_mae: 45678.6914\n",
            "Epoch 69/100\n",
            "413/413 [==============================] - 1s 3ms/step - loss: 3975979264.0000 - mae: 44297.5117 - val_loss: 4300470272.0000 - val_mae: 45474.3359\n",
            "Epoch 70/100\n",
            "413/413 [==============================] - 1s 3ms/step - loss: 3973458944.0000 - mae: 44168.9062 - val_loss: 4332798464.0000 - val_mae: 46096.6602\n",
            "Epoch 71/100\n",
            "413/413 [==============================] - 2s 4ms/step - loss: 3963006976.0000 - mae: 44267.7461 - val_loss: 4290524416.0000 - val_mae: 45657.8594\n",
            "Epoch 72/100\n",
            "413/413 [==============================] - 2s 4ms/step - loss: 3968363264.0000 - mae: 44247.1016 - val_loss: 4295987200.0000 - val_mae: 45709.8555\n",
            "Epoch 73/100\n",
            "413/413 [==============================] - 1s 3ms/step - loss: 3961779456.0000 - mae: 44195.9883 - val_loss: 4302959616.0000 - val_mae: 45850.3906\n",
            "Epoch 74/100\n",
            "413/413 [==============================] - 1s 3ms/step - loss: 3955968256.0000 - mae: 44148.0000 - val_loss: 4296776192.0000 - val_mae: 45512.2734\n",
            "Epoch 75/100\n",
            "413/413 [==============================] - 1s 3ms/step - loss: 3952893184.0000 - mae: 44138.4766 - val_loss: 4290999552.0000 - val_mae: 45526.6367\n",
            "Epoch 76/100\n",
            "413/413 [==============================] - 1s 2ms/step - loss: 3950614272.0000 - mae: 44103.0391 - val_loss: 4297688064.0000 - val_mae: 45626.8789\n",
            "Epoch 77/100\n",
            "413/413 [==============================] - 1s 3ms/step - loss: 3952330496.0000 - mae: 44097.5859 - val_loss: 4310195712.0000 - val_mae: 46082.0234\n",
            "Epoch 78/100\n",
            "413/413 [==============================] - 1s 3ms/step - loss: 3944801536.0000 - mae: 44096.5234 - val_loss: 4298914816.0000 - val_mae: 45987.3164\n",
            "Epoch 79/100\n",
            "413/413 [==============================] - 1s 3ms/step - loss: 3941629696.0000 - mae: 44052.8633 - val_loss: 4289187072.0000 - val_mae: 45852.9609\n",
            "Epoch 80/100\n",
            "413/413 [==============================] - 1s 3ms/step - loss: 3943394816.0000 - mae: 44036.0859 - val_loss: 4268791296.0000 - val_mae: 45259.9180\n",
            "Epoch 81/100\n",
            "413/413 [==============================] - 1s 3ms/step - loss: 3935460352.0000 - mae: 44046.5117 - val_loss: 4273342208.0000 - val_mae: 45421.3320\n",
            "Epoch 82/100\n",
            "413/413 [==============================] - 2s 4ms/step - loss: 3936568064.0000 - mae: 43948.6758 - val_loss: 4271528448.0000 - val_mae: 45353.7305\n",
            "Epoch 83/100\n",
            "413/413 [==============================] - 2s 5ms/step - loss: 3930291456.0000 - mae: 43913.5273 - val_loss: 4261650432.0000 - val_mae: 45290.0352\n",
            "Epoch 84/100\n",
            "413/413 [==============================] - 1s 4ms/step - loss: 3929236736.0000 - mae: 43900.3984 - val_loss: 4291678464.0000 - val_mae: 46103.4844\n",
            "Epoch 85/100\n",
            "413/413 [==============================] - 1s 3ms/step - loss: 3925464320.0000 - mae: 43997.5312 - val_loss: 4261496064.0000 - val_mae: 45025.0664\n",
            "Epoch 86/100\n",
            "413/413 [==============================] - 1s 3ms/step - loss: 3921991424.0000 - mae: 43860.1406 - val_loss: 4259493888.0000 - val_mae: 45307.6758\n",
            "Epoch 87/100\n",
            "413/413 [==============================] - 1s 2ms/step - loss: 3922319360.0000 - mae: 43870.4102 - val_loss: 4259861504.0000 - val_mae: 45179.3047\n",
            "Epoch 88/100\n",
            "413/413 [==============================] - 1s 3ms/step - loss: 3915448064.0000 - mae: 43853.4922 - val_loss: 4276282880.0000 - val_mae: 45654.1719\n",
            "Epoch 89/100\n",
            "413/413 [==============================] - 1s 3ms/step - loss: 3913051648.0000 - mae: 43891.8320 - val_loss: 4287648768.0000 - val_mae: 45764.5430\n",
            "Epoch 90/100\n",
            "413/413 [==============================] - 1s 3ms/step - loss: 3914640896.0000 - mae: 43772.9336 - val_loss: 4262453504.0000 - val_mae: 45078.9453\n",
            "Epoch 91/100\n",
            "413/413 [==============================] - 1s 3ms/step - loss: 3906360832.0000 - mae: 43820.9766 - val_loss: 4271113472.0000 - val_mae: 45155.3438\n",
            "Epoch 92/100\n",
            "413/413 [==============================] - 1s 3ms/step - loss: 3909648640.0000 - mae: 43797.6836 - val_loss: 4246277888.0000 - val_mae: 45252.9492\n",
            "Epoch 93/100\n",
            "413/413 [==============================] - 1s 3ms/step - loss: 3905894656.0000 - mae: 43765.6953 - val_loss: 4244089600.0000 - val_mae: 45089.0938\n",
            "Epoch 94/100\n",
            "413/413 [==============================] - 2s 5ms/step - loss: 3902646784.0000 - mae: 43696.9844 - val_loss: 4280343808.0000 - val_mae: 45679.0469\n",
            "Epoch 95/100\n",
            "413/413 [==============================] - 2s 4ms/step - loss: 3901088256.0000 - mae: 43694.4609 - val_loss: 4250971648.0000 - val_mae: 45075.7109\n",
            "Epoch 96/100\n",
            "413/413 [==============================] - 1s 3ms/step - loss: 3896909568.0000 - mae: 43649.6055 - val_loss: 4263959552.0000 - val_mae: 45708.7070\n",
            "Epoch 97/100\n",
            "413/413 [==============================] - 1s 3ms/step - loss: 3891477760.0000 - mae: 43778.0117 - val_loss: 4240473600.0000 - val_mae: 45058.0000\n",
            "Epoch 98/100\n",
            "413/413 [==============================] - 1s 3ms/step - loss: 3895329792.0000 - mae: 43671.4258 - val_loss: 4256519936.0000 - val_mae: 45452.2461\n",
            "Epoch 99/100\n",
            "413/413 [==============================] - 1s 3ms/step - loss: 3887848704.0000 - mae: 43617.2227 - val_loss: 4237710592.0000 - val_mae: 45213.4961\n",
            "Epoch 100/100\n",
            "413/413 [==============================] - 1s 3ms/step - loss: 3889531648.0000 - mae: 43663.9922 - val_loss: 4262308352.0000 - val_mae: 45181.7578\n"
          ]
        }
      ]
    },
    {
      "cell_type": "code",
      "source": [
        "test_loss, test_mae = model.evaluate(X_test_scaled, y_test)\n",
        "print(\"Test MSE:\", test_loss)\n",
        "print(\"Test MAE:\", test_mae)"
      ],
      "metadata": {
        "colab": {
          "base_uri": "https://localhost:8080/"
        },
        "id": "uDeYWYl2Uie-",
        "outputId": "940ce7b3-bc40-4a48-9568-77cbd27dee42"
      },
      "execution_count": 22,
      "outputs": [
        {
          "output_type": "stream",
          "name": "stdout",
          "text": [
            "129/129 [==============================] - 1s 10ms/step - loss: 4083801088.0000 - mae: 44404.5625\n",
            "Test MSE: 4083801088.0\n",
            "Test MAE: 44404.5625\n"
          ]
        }
      ]
    },
    {
      "cell_type": "code",
      "source": [
        "from sklearn.metrics import r2_score\n",
        "\n",
        "# Assuming X_test_scaled and y_test are already defined and your model is named 'model'\n",
        "y_pred = model.predict(X_test_scaled).flatten()  # Flatten to make y_pred a 1D array\n",
        "\n",
        "# Calculate R-squared\n",
        "r_squared = r2_score(y_test, y_pred)\n",
        "print(\"R-squared:\", r_squared)"
      ],
      "metadata": {
        "colab": {
          "base_uri": "https://localhost:8080/"
        },
        "id": "PKPyyrqyU7ec",
        "outputId": "b88443ff-57f9-4957-9a68-1a06954af8f6"
      },
      "execution_count": 23,
      "outputs": [
        {
          "output_type": "stream",
          "name": "stdout",
          "text": [
            "129/129 [==============================] - 1s 3ms/step\n",
            "R-squared: 0.6883567404487302\n"
          ]
        }
      ]
    }
  ]
}